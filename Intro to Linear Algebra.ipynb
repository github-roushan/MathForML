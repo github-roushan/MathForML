{
 "cells": [
  {
   "cell_type": "markdown",
   "id": "784f46a2-a46d-4acc-a078-56331602bf47",
   "metadata": {
    "jp-MarkdownHeadingCollapsed": true
   },
   "source": [
    "# Scalars"
   ]
  },
  {
   "cell_type": "markdown",
   "id": "5fe2eb61-76ce-4bc8-b99c-1234c2f54206",
   "metadata": {
    "jp-MarkdownHeadingCollapsed": true
   },
   "source": [
    "## Scalars in Python"
   ]
  },
  {
   "cell_type": "code",
   "execution_count": 2,
   "id": "dd9ba2c5-3f32-4e26-98b3-27092de2a4f3",
   "metadata": {},
   "outputs": [
    {
     "data": {
      "text/plain": [
       "25"
      ]
     },
     "execution_count": 2,
     "metadata": {},
     "output_type": "execute_result"
    }
   ],
   "source": [
    "x = 25\n",
    "x"
   ]
  },
  {
   "cell_type": "code",
   "execution_count": 3,
   "id": "30581a6c-ede2-488d-be11-2f84e7f8e5f0",
   "metadata": {},
   "outputs": [
    {
     "data": {
      "text/plain": [
       "int"
      ]
     },
     "execution_count": 3,
     "metadata": {},
     "output_type": "execute_result"
    }
   ],
   "source": [
    "type(x)"
   ]
  },
  {
   "cell_type": "code",
   "execution_count": 4,
   "id": "c4ceefe1-63ff-4e34-b9b7-5866331e94db",
   "metadata": {},
   "outputs": [],
   "source": [
    "y = 3"
   ]
  },
  {
   "cell_type": "code",
   "execution_count": 5,
   "id": "4f4915ce-6578-41da-b892-256f352ca126",
   "metadata": {},
   "outputs": [
    {
     "data": {
      "text/plain": [
       "28"
      ]
     },
     "execution_count": 5,
     "metadata": {},
     "output_type": "execute_result"
    }
   ],
   "source": [
    "py_sum = x + y\n",
    "py_sum"
   ]
  },
  {
   "cell_type": "code",
   "execution_count": 6,
   "id": "3461cf0b-1835-45d0-ab45-27bbc68ad6aa",
   "metadata": {},
   "outputs": [
    {
     "data": {
      "text/plain": [
       "28.0"
      ]
     },
     "execution_count": 6,
     "metadata": {},
     "output_type": "execute_result"
    }
   ],
   "source": [
    "x_float = 25.0\n",
    "float_sum = x_float + y\n",
    "float_sum"
   ]
  },
  {
   "cell_type": "code",
   "execution_count": 7,
   "id": "728ad2e7-92cd-42ed-b952-ce4e74a6b92b",
   "metadata": {},
   "outputs": [
    {
     "data": {
      "text/plain": [
       "float"
      ]
     },
     "execution_count": 7,
     "metadata": {},
     "output_type": "execute_result"
    }
   ],
   "source": [
    "type(float_sum)"
   ]
  },
  {
   "cell_type": "markdown",
   "id": "c6e53063-cd76-430e-864e-5ea91e0a2981",
   "metadata": {
    "jp-MarkdownHeadingCollapsed": true
   },
   "source": [
    "## Scalars in Pytorch"
   ]
  },
  {
   "cell_type": "code",
   "execution_count": 8,
   "id": "c2cc0175-5006-43c6-ace3-1bd8d7aeb939",
   "metadata": {},
   "outputs": [],
   "source": [
    "import torch"
   ]
  },
  {
   "cell_type": "code",
   "execution_count": 9,
   "id": "4c0fe4ea-0eee-4832-b32b-09592a4011ce",
   "metadata": {},
   "outputs": [
    {
     "data": {
      "text/plain": [
       "tensor(25., dtype=torch.float16)"
      ]
     },
     "execution_count": 9,
     "metadata": {},
     "output_type": "execute_result"
    }
   ],
   "source": [
    "x_pt = torch.tensor(25, dtype=torch.float16)\n",
    "x_pt"
   ]
  },
  {
   "cell_type": "code",
   "execution_count": 10,
   "id": "5cdebf7c-67e1-456d-855a-6707e0d24c7b",
   "metadata": {},
   "outputs": [
    {
     "data": {
      "text/plain": [
       "torch.Size([])"
      ]
     },
     "execution_count": 10,
     "metadata": {},
     "output_type": "execute_result"
    }
   ],
   "source": [
    "x_pt.shape"
   ]
  },
  {
   "cell_type": "markdown",
   "id": "c322dbb3-d420-42b0-842f-b5abca5c65e0",
   "metadata": {
    "jp-MarkdownHeadingCollapsed": true
   },
   "source": [
    "## Scalars in TensorFlow"
   ]
  },
  {
   "cell_type": "code",
   "execution_count": 11,
   "id": "2bf6c162-7546-45e3-b908-fbb9ade6a1a7",
   "metadata": {},
   "outputs": [
    {
     "name": "stderr",
     "output_type": "stream",
     "text": [
      "2025-03-26 09:42:17.845629: I tensorflow/core/platform/cpu_feature_guard.cc:210] This TensorFlow binary is optimized to use available CPU instructions in performance-critical operations.\n",
      "To enable the following instructions: AVX2 FMA, in other operations, rebuild TensorFlow with the appropriate compiler flags.\n"
     ]
    }
   ],
   "source": [
    "import tensorflow as tf"
   ]
  },
  {
   "cell_type": "code",
   "execution_count": 12,
   "id": "eb05d657-524b-469e-84df-9ab020ad6fe2",
   "metadata": {},
   "outputs": [
    {
     "data": {
      "text/plain": [
       "<tf.Variable 'Variable:0' shape=() dtype=int16, numpy=25>"
      ]
     },
     "execution_count": 12,
     "metadata": {},
     "output_type": "execute_result"
    }
   ],
   "source": [
    "x_tf = tf.Variable(25, dtype=tf.int16)\n",
    "x_tf"
   ]
  },
  {
   "cell_type": "code",
   "execution_count": 13,
   "id": "f58ac24c-df34-421f-8414-84b38b9d7120",
   "metadata": {},
   "outputs": [
    {
     "data": {
      "text/plain": [
       "TensorShape([])"
      ]
     },
     "execution_count": 13,
     "metadata": {},
     "output_type": "execute_result"
    }
   ],
   "source": [
    "x_tf.shape"
   ]
  },
  {
   "cell_type": "code",
   "execution_count": 14,
   "id": "d2960a47-cc07-4429-80d2-9265dff6f68f",
   "metadata": {},
   "outputs": [],
   "source": [
    "y_tf = tf.Variable(3, dtype=tf.int16)"
   ]
  },
  {
   "cell_type": "code",
   "execution_count": 15,
   "id": "587d8ddc-dbb5-45fd-a17b-0f278e727c51",
   "metadata": {},
   "outputs": [
    {
     "data": {
      "text/plain": [
       "<tf.Tensor: shape=(), dtype=int16, numpy=28>"
      ]
     },
     "execution_count": 15,
     "metadata": {},
     "output_type": "execute_result"
    }
   ],
   "source": [
    "x_tf + y_tf"
   ]
  },
  {
   "cell_type": "code",
   "execution_count": 16,
   "id": "e1661b09-9429-44bf-8fb2-fb3724663c34",
   "metadata": {},
   "outputs": [
    {
     "data": {
      "text/plain": [
       "<tf.Tensor: shape=(), dtype=int16, numpy=28>"
      ]
     },
     "execution_count": 16,
     "metadata": {},
     "output_type": "execute_result"
    }
   ],
   "source": [
    "tf_sum = tf.add(x_tf, y_tf)\n",
    "tf_sum"
   ]
  },
  {
   "cell_type": "code",
   "execution_count": 17,
   "id": "6c09e7f0-a878-424f-84ba-17e8ddd80376",
   "metadata": {},
   "outputs": [
    {
     "data": {
      "text/plain": [
       "28"
      ]
     },
     "execution_count": 17,
     "metadata": {},
     "output_type": "execute_result"
    }
   ],
   "source": [
    "tf_sum.numpy()"
   ]
  },
  {
   "cell_type": "code",
   "execution_count": 18,
   "id": "355aa8ac-0426-4764-b41c-c8df51a21059",
   "metadata": {},
   "outputs": [
    {
     "data": {
      "text/plain": [
       "tensorflow.python.framework.ops.EagerTensor"
      ]
     },
     "execution_count": 18,
     "metadata": {},
     "output_type": "execute_result"
    }
   ],
   "source": [
    "type(tf_sum)"
   ]
  },
  {
   "cell_type": "code",
   "execution_count": 19,
   "id": "06f06463-b77d-40dc-af37-5c9909d77ad1",
   "metadata": {},
   "outputs": [
    {
     "data": {
      "text/plain": [
       "numpy.int16"
      ]
     },
     "execution_count": 19,
     "metadata": {},
     "output_type": "execute_result"
    }
   ],
   "source": [
    "type(tf_sum.numpy())"
   ]
  },
  {
   "cell_type": "code",
   "execution_count": 20,
   "id": "d25b4523-f2d0-4c4c-a974-d25873fde0ef",
   "metadata": {},
   "outputs": [
    {
     "data": {
      "text/plain": [
       "<tf.Variable 'Variable:0' shape=() dtype=float16, numpy=25.0>"
      ]
     },
     "execution_count": 20,
     "metadata": {},
     "output_type": "execute_result"
    }
   ],
   "source": [
    "tf_float = tf.Variable(25, dtype=tf.float16)\n",
    "tf_float"
   ]
  },
  {
   "cell_type": "markdown",
   "id": "c3d238dc-35fa-4df1-aec9-658903e067c0",
   "metadata": {
    "jp-MarkdownHeadingCollapsed": true
   },
   "source": [
    "# Vectors"
   ]
  },
  {
   "cell_type": "markdown",
   "id": "6d85b063-d710-4939-9b00-d22b7de8e7fa",
   "metadata": {
    "jp-MarkdownHeadingCollapsed": true
   },
   "source": [
    "## Vector in Numpy"
   ]
  },
  {
   "cell_type": "code",
   "execution_count": 21,
   "id": "5a9f9c5f-1ac9-4b68-960a-307883392024",
   "metadata": {},
   "outputs": [],
   "source": [
    "import numpy as np"
   ]
  },
  {
   "cell_type": "code",
   "execution_count": 22,
   "id": "05fa1ac5-47d6-48ca-9013-c736f9010503",
   "metadata": {},
   "outputs": [
    {
     "data": {
      "text/plain": [
       "array([25,  2,  5])"
      ]
     },
     "execution_count": 22,
     "metadata": {},
     "output_type": "execute_result"
    }
   ],
   "source": [
    "x = np.array([25, 2, 5])\n",
    "x"
   ]
  },
  {
   "cell_type": "code",
   "execution_count": 23,
   "id": "44d1904b-a870-4851-9da1-562486f76038",
   "metadata": {},
   "outputs": [
    {
     "data": {
      "text/plain": [
       "3"
      ]
     },
     "execution_count": 23,
     "metadata": {},
     "output_type": "execute_result"
    }
   ],
   "source": [
    "len(x)"
   ]
  },
  {
   "cell_type": "code",
   "execution_count": 24,
   "id": "fb570147-555d-4318-9589-4e258b257ed0",
   "metadata": {},
   "outputs": [
    {
     "data": {
      "text/plain": [
       "(3,)"
      ]
     },
     "execution_count": 24,
     "metadata": {},
     "output_type": "execute_result"
    }
   ],
   "source": [
    "x.shape"
   ]
  },
  {
   "cell_type": "code",
   "execution_count": 25,
   "id": "f250d379-0be4-4075-ae5a-3f555ffea10d",
   "metadata": {},
   "outputs": [
    {
     "data": {
      "text/plain": [
       "numpy.ndarray"
      ]
     },
     "execution_count": 25,
     "metadata": {},
     "output_type": "execute_result"
    }
   ],
   "source": [
    "type(x)"
   ]
  },
  {
   "cell_type": "code",
   "execution_count": 26,
   "id": "a5df60be-dda2-4e1f-a02d-c3266f52381a",
   "metadata": {},
   "outputs": [
    {
     "data": {
      "text/plain": [
       "numpy.int64"
      ]
     },
     "execution_count": 26,
     "metadata": {},
     "output_type": "execute_result"
    }
   ],
   "source": [
    "type(x[0])"
   ]
  },
  {
   "cell_type": "code",
   "execution_count": 27,
   "id": "ecb59cc4-4909-4205-b814-4d8ac460654b",
   "metadata": {},
   "outputs": [
    {
     "data": {
      "text/plain": [
       "1"
      ]
     },
     "execution_count": 27,
     "metadata": {},
     "output_type": "execute_result"
    }
   ],
   "source": [
    "y = np.array([[25, 2, 5]])\n",
    "len(y)"
   ]
  },
  {
   "cell_type": "code",
   "execution_count": 28,
   "id": "32f3d918-b3e5-4721-856e-489e451eb9a4",
   "metadata": {},
   "outputs": [
    {
     "data": {
      "text/plain": [
       "numpy.ndarray"
      ]
     },
     "execution_count": 28,
     "metadata": {},
     "output_type": "execute_result"
    }
   ],
   "source": [
    "type(y)"
   ]
  },
  {
   "cell_type": "code",
   "execution_count": 29,
   "id": "a2ca5beb-fe7c-4456-ac40-1f71ea59682d",
   "metadata": {},
   "outputs": [
    {
     "data": {
      "text/plain": [
       "(1, 3)"
      ]
     },
     "execution_count": 29,
     "metadata": {},
     "output_type": "execute_result"
    }
   ],
   "source": [
    "y.shape"
   ]
  },
  {
   "cell_type": "code",
   "execution_count": 30,
   "id": "50c8da5e-5c9e-45e1-af23-5275a61cb676",
   "metadata": {},
   "outputs": [],
   "source": [
    "y_t = y.T"
   ]
  },
  {
   "cell_type": "code",
   "execution_count": 31,
   "id": "cb148653-b0c5-4973-9a63-b9c0747e353f",
   "metadata": {},
   "outputs": [
    {
     "name": "stdout",
     "output_type": "stream",
     "text": [
      "Normal\n",
      "[[25  2  5]]\n",
      "\n",
      "Transpose\n",
      "[[25]\n",
      " [ 2]\n",
      " [ 5]]\n"
     ]
    }
   ],
   "source": [
    "print(\"Normal\")\n",
    "print(y)\n",
    "print()\n",
    "print(\"Transpose\")\n",
    "print(y_t)"
   ]
  },
  {
   "cell_type": "markdown",
   "id": "3791ff3a-d93f-4d1b-a516-c539a1c76c15",
   "metadata": {
    "jp-MarkdownHeadingCollapsed": true
   },
   "source": [
    "## Zero Vectors"
   ]
  },
  {
   "cell_type": "code",
   "execution_count": 32,
   "id": "18cf0420-6c8e-4657-b6d3-31add183029c",
   "metadata": {},
   "outputs": [
    {
     "data": {
      "text/plain": [
       "array([0., 0., 0.])"
      ]
     },
     "execution_count": 32,
     "metadata": {},
     "output_type": "execute_result"
    }
   ],
   "source": [
    "z = np.zeros(3)\n",
    "z"
   ]
  },
  {
   "cell_type": "markdown",
   "id": "9861f952-5a1e-403b-9d5b-76add3e67067",
   "metadata": {},
   "source": [
    "## Vectors in Pytorch and Tensorflow"
   ]
  },
  {
   "cell_type": "code",
   "execution_count": 33,
   "id": "28444b35-fece-4524-a37b-f6fd3294c1d1",
   "metadata": {},
   "outputs": [
    {
     "data": {
      "text/plain": [
       "tensor([25,  2,  5])"
      ]
     },
     "execution_count": 33,
     "metadata": {},
     "output_type": "execute_result"
    }
   ],
   "source": [
    "x_pt = torch.tensor([25, 2, 5])\n",
    "x_pt"
   ]
  },
  {
   "cell_type": "code",
   "execution_count": 34,
   "id": "3f37e803-6ee2-4612-b854-a05630c40c3f",
   "metadata": {},
   "outputs": [
    {
     "data": {
      "text/plain": [
       "<tf.Variable 'Variable:0' shape=(3,) dtype=int32, numpy=array([25,  2,  5], dtype=int32)>"
      ]
     },
     "execution_count": 34,
     "metadata": {},
     "output_type": "execute_result"
    }
   ],
   "source": [
    "x_tf = tf.Variable([25, 2, 5])\n",
    "x_tf"
   ]
  },
  {
   "cell_type": "markdown",
   "id": "60258b48-3186-4a12-9a30-5d95e2da5e4b",
   "metadata": {},
   "source": [
    "## Basis Vectors"
   ]
  },
  {
   "cell_type": "markdown",
   "id": "6968df59-06d8-4abb-afd6-a4034473ad2e",
   "metadata": {},
   "source": [
    "- They are vectors that can be scaled to represent any vector in an given vector space.\n",
    "- For this purpose we use unit vectors along axes of vector space"
   ]
  },
  {
   "cell_type": "markdown",
   "id": "542fa7bb-8632-4ece-82ef-27916134c217",
   "metadata": {},
   "source": [
    "## Orthogonal Vectors"
   ]
  },
  {
   "cell_type": "markdown",
   "id": "2146d5e9-5136-4437-a15b-50b53e92769a",
   "metadata": {},
   "source": [
    "- **x** and **y** are orthogonal vectors if **x<sup>T</sup>y = 0**\n",
    "- Are at 90<sup>o</sup> angle to each other and have non zero non (non zero length)."
   ]
  },
  {
   "cell_type": "code",
   "execution_count": 44,
   "id": "3769f1bc-85ab-4caf-944e-be7eee4b5d1f",
   "metadata": {},
   "outputs": [
    {
     "data": {
      "text/plain": [
       "array([1, 0])"
      ]
     },
     "execution_count": 44,
     "metadata": {},
     "output_type": "execute_result"
    }
   ],
   "source": [
    "i = np.array([1, 0])\n",
    "i"
   ]
  },
  {
   "cell_type": "code",
   "execution_count": 45,
   "id": "552826cb-d79c-4148-8e06-dc390aaec264",
   "metadata": {},
   "outputs": [
    {
     "data": {
      "text/plain": [
       "array([0, 1])"
      ]
     },
     "execution_count": 45,
     "metadata": {},
     "output_type": "execute_result"
    }
   ],
   "source": [
    "j = np.array([0, 1])\n",
    "j"
   ]
  },
  {
   "cell_type": "code",
   "execution_count": 46,
   "id": "0f3f5507-467f-4641-98c2-919d7c878dd7",
   "metadata": {},
   "outputs": [
    {
     "data": {
      "text/plain": [
       "0"
      ]
     },
     "execution_count": 46,
     "metadata": {},
     "output_type": "execute_result"
    }
   ],
   "source": [
    "np.dot(i, j)"
   ]
  },
  {
   "cell_type": "markdown",
   "id": "5368b923-2e21-4f53-aa73-7271279f6b5b",
   "metadata": {
    "jp-MarkdownHeadingCollapsed": true
   },
   "source": [
    "# Norms"
   ]
  },
  {
   "cell_type": "markdown",
   "id": "cf6ebdf2-93c2-46ec-9a77-494bd655d983",
   "metadata": {},
   "source": [
    "\n",
    "1. Norms are functions that quantify vector magnitude.\n",
    "2. Of all the norm functions the most common is L2 norm.\n",
    "\n",
    "The formula for the **L2 norm** (also known as the Euclidean norm) of a vector $( x_1, x_2, \\dots, x_n)$ is given by:\n",
    "\n",
    "$$\n",
    "\\| \\mathbf{x} \\|_2 = \\sqrt{x_1^2 + x_2^2 + \\dots + x_n^2}\n",
    "$$\n",
    "\n",
    "Where:\n",
    "- $\\|\\mathbf{x}\\|$  is a vector $\\mathbb{R}^n$,\n",
    "- $( x_1, x_2, \\dots, x_n)$ are the components of the vector.\n",
    "\n",
    "This represents the \"straight-line\" distance from the origin to the point represented by the vector in Euclidean space.\n",
    "\n",
    "$\\| \\mathbf{x} \\|_2$ can also be denoted by $\\| \\mathbf{x} \\|$"
   ]
  },
  {
   "cell_type": "markdown",
   "id": "7af9b029-9dfa-4031-b63e-14a8a543e7f3",
   "metadata": {
    "jp-MarkdownHeadingCollapsed": true
   },
   "source": [
    "## L2 Norm Calculation using python"
   ]
  },
  {
   "cell_type": "code",
   "execution_count": 36,
   "id": "7d5627bd-ae1e-4f60-975a-26a4285a9595",
   "metadata": {},
   "outputs": [
    {
     "data": {
      "text/plain": [
       "array([25,  2,  5])"
      ]
     },
     "execution_count": 36,
     "metadata": {},
     "output_type": "execute_result"
    }
   ],
   "source": [
    "x"
   ]
  },
  {
   "cell_type": "code",
   "execution_count": 37,
   "id": "7e4f7f1f-617e-4fd9-a671-81893c7a322f",
   "metadata": {},
   "outputs": [
    {
     "data": {
      "text/plain": [
       "25.573423705088842"
      ]
     },
     "execution_count": 37,
     "metadata": {},
     "output_type": "execute_result"
    }
   ],
   "source": [
    "l2_norm = pow(x[0]**2 + x[1]**2 + x[2]**2, 0.5)\n",
    "l2_norm"
   ]
  },
  {
   "cell_type": "markdown",
   "id": "eb196517-b74c-4e9d-9284-3ae7994c7d98",
   "metadata": {
    "jp-MarkdownHeadingCollapsed": true
   },
   "source": [
    "## L2 Norm Calculation using library"
   ]
  },
  {
   "cell_type": "code",
   "execution_count": 38,
   "id": "897f08ca-e429-4cdb-a62d-ccef8350660b",
   "metadata": {},
   "outputs": [
    {
     "data": {
      "text/plain": [
       "25.573423705088842"
      ]
     },
     "execution_count": 38,
     "metadata": {},
     "output_type": "execute_result"
    }
   ],
   "source": [
    "np.linalg.norm(x)"
   ]
  },
  {
   "cell_type": "markdown",
   "id": "d3a5ae05-816b-442b-a803-f82ce73f9f7e",
   "metadata": {
    "jp-MarkdownHeadingCollapsed": true
   },
   "source": [
    "## Unit Vectors\n",
    "\n",
    "vectors whose **L2 Norm** is equal to 1 are called unit vectors"
   ]
  },
  {
   "cell_type": "markdown",
   "id": "f648874c-88a6-4e47-86eb-bde6d2bc343c",
   "metadata": {},
   "source": [
    "## L1 Norms\n",
    "\n",
    "L1 norms are just absolute addition of values\n",
    "They are usefull in scenarios where difference between zero and nonzero is a key\n",
    "\n",
    "L1 norm is calculated via $\\| \\mathbf{x} \\|_1 = (abs(x_1) + abs(x_2) + \\dots + abs(x_n))$\n"
   ]
  },
  {
   "cell_type": "code",
   "execution_count": 39,
   "id": "f6aa3fe8-a5ed-4114-908f-9b4b28d0a594",
   "metadata": {},
   "outputs": [
    {
     "data": {
      "text/plain": [
       "array([25,  2,  5])"
      ]
     },
     "execution_count": 39,
     "metadata": {},
     "output_type": "execute_result"
    }
   ],
   "source": [
    "x"
   ]
  },
  {
   "cell_type": "code",
   "execution_count": 40,
   "id": "e17219b9-6335-47a9-8ae2-27f7e9c8277e",
   "metadata": {},
   "outputs": [],
   "source": [
    "l1_norm_simple = abs(25) + abs(2) + abs(5)\n",
    "l1_norm_np = np.abs(25) + np.abs(2) + np.abs(5)"
   ]
  },
  {
   "cell_type": "code",
   "execution_count": 41,
   "id": "0e2d125c-592f-4f3b-99ce-e1fa8c2d169a",
   "metadata": {},
   "outputs": [
    {
     "name": "stdout",
     "output_type": "stream",
     "text": [
      "32 32\n"
     ]
    }
   ],
   "source": [
    "print(l1_norm_simple, l1_norm_np)"
   ]
  },
  {
   "cell_type": "code",
   "execution_count": 42,
   "id": "010798ba-8c88-4dd6-b9c2-fc3dbea04132",
   "metadata": {},
   "outputs": [
    {
     "data": {
      "text/plain": [
       "array([[ 7, 10],\n",
       "       [15, 22]])"
      ]
     },
     "execution_count": 42,
     "metadata": {},
     "output_type": "execute_result"
    }
   ],
   "source": [
    "x = np.array([[1,2], [3,4]])\n",
    "np.dot(x, x)"
   ]
  },
  {
   "cell_type": "markdown",
   "id": "48b03b0d-0420-4412-a05f-9e203d977cab",
   "metadata": {},
   "source": [
    "## MAX Norm"
   ]
  },
  {
   "cell_type": "markdown",
   "id": "c02086cd-d2e4-490e-8c5d-d517e7550fc2",
   "metadata": {},
   "source": [
    "This is just taking the maximum of abs value of largest element"
   ]
  },
  {
   "cell_type": "markdown",
   "id": "52c39f5a-d592-42ec-91c8-6f9042e4f592",
   "metadata": {
    "jp-MarkdownHeadingCollapsed": true
   },
   "source": [
    "# Matrix (2 dimensional Tensors)\n",
    "\n",
    "- Matrixes are just 2 dimensional array of numbers.\n",
    "- Denoted in uppercase, italics, bold, e.g.:X\n",
    "- Height given proirity than width in notation like x<sub>row, col</sub>\n"
   ]
  },
  {
   "cell_type": "code",
   "execution_count": 47,
   "id": "95481b22-fafa-402a-93eb-cdecae57fdf4",
   "metadata": {},
   "outputs": [
    {
     "data": {
      "text/plain": [
       "array([[25,  2],\n",
       "       [ 5, 26],\n",
       "       [ 3,  7]])"
      ]
     },
     "execution_count": 47,
     "metadata": {},
     "output_type": "execute_result"
    }
   ],
   "source": [
    "x = np.array([[25, 2], [5, 26], [3, 7]])\n",
    "x"
   ]
  },
  {
   "cell_type": "code",
   "execution_count": 48,
   "id": "fd1da3a3-075a-4133-b203-8759097675fe",
   "metadata": {},
   "outputs": [
    {
     "data": {
      "text/plain": [
       "(3, 2)"
      ]
     },
     "execution_count": 48,
     "metadata": {},
     "output_type": "execute_result"
    }
   ],
   "source": [
    "x.shape"
   ]
  },
  {
   "cell_type": "code",
   "execution_count": 49,
   "id": "f3491451-114e-46e7-9c56-eb02668e42ad",
   "metadata": {},
   "outputs": [
    {
     "data": {
      "text/plain": [
       "6"
      ]
     },
     "execution_count": 49,
     "metadata": {},
     "output_type": "execute_result"
    }
   ],
   "source": [
    "x.size"
   ]
  },
  {
   "cell_type": "code",
   "execution_count": 52,
   "id": "2382dcfc-8767-4589-b6f7-588b9828d765",
   "metadata": {},
   "outputs": [
    {
     "data": {
      "text/plain": [
       "array([ 5, 26])"
      ]
     },
     "execution_count": 52,
     "metadata": {},
     "output_type": "execute_result"
    }
   ],
   "source": [
    "x[1,:] ## middle row"
   ]
  },
  {
   "cell_type": "code",
   "execution_count": 92,
   "id": "f1595efd-9744-4df0-b106-876a0b9e73c9",
   "metadata": {},
   "outputs": [
    {
     "data": {
      "text/plain": [
       "array([ 2, 26,  7])"
      ]
     },
     "execution_count": 92,
     "metadata": {},
     "output_type": "execute_result"
    }
   ],
   "source": [
    "x[:,1] ## rightmost column"
   ]
  },
  {
   "cell_type": "code",
   "execution_count": 87,
   "id": "69d3a369-2a29-4234-b219-715a151436eb",
   "metadata": {},
   "outputs": [
    {
     "data": {
      "text/plain": [
       "array([[25,  2],\n",
       "       [ 5, 26]])"
      ]
     },
     "execution_count": 87,
     "metadata": {},
     "output_type": "execute_result"
    }
   ],
   "source": [
    "x[0:2]"
   ]
  },
  {
   "cell_type": "code",
   "execution_count": 77,
   "id": "5aae1e2e-1d51-4df0-a95b-638d8e298186",
   "metadata": {},
   "outputs": [
    {
     "data": {
      "text/plain": [
       "array([[ 2],\n",
       "       [26]])"
      ]
     },
     "execution_count": 77,
     "metadata": {},
     "output_type": "execute_result"
    }
   ],
   "source": [
    "x[0:2, 1:]"
   ]
  },
  {
   "cell_type": "markdown",
   "id": "c27cbf8c-4e9e-4976-af16-5391be3aec0a",
   "metadata": {},
   "source": [
    "## Matices in PyTorch"
   ]
  },
  {
   "cell_type": "code",
   "execution_count": 93,
   "id": "ec9a0007-13b1-4592-b0da-16d9bfdd0b13",
   "metadata": {},
   "outputs": [],
   "source": [
    "X_pt = torch.tensor([[25, 2], [5, 6], [3, 7]])\n",
    "X_pt"
   ]
  },
  {
   "cell_type": "code",
   "execution_count": 94,
   "id": "5ad97518-0bdb-47e1-87ec-f329734f144e",
   "metadata": {},
   "outputs": [
    {
     "data": {
      "text/plain": [
       "torch.Size([3, 2])"
      ]
     },
     "execution_count": 94,
     "metadata": {},
     "output_type": "execute_result"
    }
   ],
   "source": [
    "X_pt.shape"
   ]
  },
  {
   "cell_type": "code",
   "execution_count": 95,
   "id": "ab2d23ba-9bec-41e8-b8eb-93e03bae4c18",
   "metadata": {},
   "outputs": [
    {
     "data": {
      "text/plain": [
       "tensor([5, 6])"
      ]
     },
     "execution_count": 95,
     "metadata": {},
     "output_type": "execute_result"
    }
   ],
   "source": [
    "X_pt[1,:]"
   ]
  },
  {
   "cell_type": "markdown",
   "id": "07efb350-8f39-45a2-a1be-1ca1beeb86a5",
   "metadata": {},
   "source": [
    "## Matrices in TensorFlow"
   ]
  },
  {
   "cell_type": "code",
   "execution_count": 102,
   "id": "f3e841d8-bdc4-4838-868d-d7a49cbd01f0",
   "metadata": {},
   "outputs": [
    {
     "data": {
      "text/plain": [
       "<tf.Variable 'Variable:0' shape=(3, 2) dtype=int32, numpy=\n",
       "array([[25,  2],\n",
       "       [ 5,  6],\n",
       "       [ 3,  7]], dtype=int32)>"
      ]
     },
     "execution_count": 102,
     "metadata": {},
     "output_type": "execute_result"
    }
   ],
   "source": [
    "X_tf = tf.Variable([[25, 2], [5, 6], [3, 7]])\n",
    "X_tf"
   ]
  },
  {
   "cell_type": "code",
   "execution_count": 103,
   "id": "24924c9e-8e49-4dea-b9e8-d6c2a3a65cbf",
   "metadata": {},
   "outputs": [
    {
     "data": {
      "text/plain": [
       "TensorShape([3, 2])"
      ]
     },
     "execution_count": 103,
     "metadata": {},
     "output_type": "execute_result"
    }
   ],
   "source": [
    "X_tf.shape"
   ]
  },
  {
   "cell_type": "code",
   "execution_count": 104,
   "id": "6598dbf8-51a2-40a1-9b0d-aaf0acfe362a",
   "metadata": {},
   "outputs": [
    {
     "data": {
      "text/plain": [
       "<tf.Tensor: shape=(), dtype=int32, numpy=2>"
      ]
     },
     "execution_count": 104,
     "metadata": {},
     "output_type": "execute_result"
    }
   ],
   "source": [
    "tf.rank(X_tf)"
   ]
  },
  {
   "cell_type": "code",
   "execution_count": 105,
   "id": "9027e275-65d1-43e6-be91-a3ac3cb6e573",
   "metadata": {},
   "outputs": [
    {
     "data": {
      "text/plain": [
       "<tf.Tensor: shape=(2,), dtype=int32, numpy=array([3, 2], dtype=int32)>"
      ]
     },
     "execution_count": 105,
     "metadata": {},
     "output_type": "execute_result"
    }
   ],
   "source": [
    "tf.shape(X_tf)"
   ]
  },
  {
   "cell_type": "code",
   "execution_count": 107,
   "id": "a90eb677-27a2-4c77-bd22-a830397374c6",
   "metadata": {},
   "outputs": [
    {
     "data": {
      "text/plain": [
       "<tf.Tensor: shape=(3,), dtype=int32, numpy=array([2, 6, 7], dtype=int32)>"
      ]
     },
     "execution_count": 107,
     "metadata": {},
     "output_type": "execute_result"
    }
   ],
   "source": [
    "X_tf[:,1]"
   ]
  },
  {
   "cell_type": "markdown",
   "id": "7d7e68d5-cae2-4144-86f4-272bf1a69174",
   "metadata": {},
   "source": [
    "# Higher-Rank Tensors"
   ]
  },
  {
   "cell_type": "code",
   "execution_count": 111,
   "id": "5c6dd486-456e-4418-9c1f-e2032996459e",
   "metadata": {},
   "outputs": [],
   "source": [
    "images_pt = torch.zeros([32, 28, 28, 3])\n",
    "#images_pt"
   ]
  },
  {
   "cell_type": "code",
   "execution_count": 114,
   "id": "a09bfd76-816f-4d3d-b447-55ee39a955eb",
   "metadata": {},
   "outputs": [],
   "source": [
    "images_tf = tf.zeros([32, 28, 28, 3])\n",
    "#images_tf"
   ]
  }
 ],
 "metadata": {
  "kernelspec": {
   "display_name": "Python 3 (ipykernel)",
   "language": "python",
   "name": "python3"
  },
  "language_info": {
   "codemirror_mode": {
    "name": "ipython",
    "version": 3
   },
   "file_extension": ".py",
   "mimetype": "text/x-python",
   "name": "python",
   "nbconvert_exporter": "python",
   "pygments_lexer": "ipython3",
   "version": "3.12.3"
  }
 },
 "nbformat": 4,
 "nbformat_minor": 5
}
