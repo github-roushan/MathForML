{
 "cells": [
  {
   "cell_type": "markdown",
   "id": "b7c78b31-8133-427e-a7f0-60b3a7367440",
   "metadata": {},
   "source": [
    "# Frobenius Norm\n",
    "\n",
    "The frobenius norm is the square root of sum of square of all elements in the matrix"
   ]
  },
  {
   "cell_type": "code",
   "execution_count": 5,
   "id": "1a4bbe18-6d72-4f24-afe8-cda03888f6ab",
   "metadata": {},
   "outputs": [],
   "source": [
    "import numpy as np"
   ]
  },
  {
   "cell_type": "code",
   "execution_count": 6,
   "id": "ea00ba09-2580-4001-81bd-d5d5e075b76a",
   "metadata": {},
   "outputs": [],
   "source": [
    "X = np.array([[1,2], [3,4]])"
   ]
  },
  {
   "cell_type": "code",
   "execution_count": 7,
   "id": "a9ffc9c1-9daa-4107-b1d8-af2f934cf8b7",
   "metadata": {},
   "outputs": [
    {
     "data": {
      "text/plain": [
       "5.477225575051661"
      ]
     },
     "execution_count": 7,
     "metadata": {},
     "output_type": "execute_result"
    }
   ],
   "source": [
    "np.linalg.norm(X)"
   ]
  },
  {
   "cell_type": "code",
   "execution_count": 9,
   "id": "8da59a89-fdf9-4cb7-b0ee-3e25c9e74be8",
   "metadata": {},
   "outputs": [],
   "source": [
    "import torch"
   ]
  },
  {
   "cell_type": "code",
   "execution_count": 16,
   "id": "7f1c9b72-175a-47ef-8dcd-f143c626f2dd",
   "metadata": {},
   "outputs": [],
   "source": [
    "X_pt = torch.tensor([[1,2], [3,4]], dtype=torch.float)"
   ]
  },
  {
   "cell_type": "code",
   "execution_count": 17,
   "id": "051d8a9a-a9b0-49bd-96d1-bf146f13a5fb",
   "metadata": {},
   "outputs": [
    {
     "data": {
      "text/plain": [
       "tensor(5.4772)"
      ]
     },
     "execution_count": 17,
     "metadata": {},
     "output_type": "execute_result"
    }
   ],
   "source": [
    "torch.norm(X_pt)"
   ]
  },
  {
   "cell_type": "code",
   "execution_count": 18,
   "id": "e69b6063-fe73-47d7-900a-4eca1f99fd48",
   "metadata": {},
   "outputs": [
    {
     "name": "stderr",
     "output_type": "stream",
     "text": [
      "2025-07-16 01:17:32.837393: I tensorflow/core/platform/cpu_feature_guard.cc:210] This TensorFlow binary is optimized to use available CPU instructions in performance-critical operations.\n",
      "To enable the following instructions: AVX2 FMA, in other operations, rebuild TensorFlow with the appropriate compiler flags.\n"
     ]
    }
   ],
   "source": [
    "import tensorflow as tf"
   ]
  },
  {
   "cell_type": "code",
   "execution_count": 24,
   "id": "a57e3d3c-5092-461a-acc8-eda2fc4f88c5",
   "metadata": {},
   "outputs": [],
   "source": [
    "X_tf = tf.Variable([[1,2], [3,4]], dtype=float)"
   ]
  },
  {
   "cell_type": "code",
   "execution_count": 25,
   "id": "9090ec6b-51cb-4b89-a34d-c2b8dcc8bd96",
   "metadata": {},
   "outputs": [
    {
     "data": {
      "text/plain": [
       "<tf.Tensor: shape=(), dtype=float32, numpy=5.4772257804870605>"
      ]
     },
     "execution_count": 25,
     "metadata": {},
     "output_type": "execute_result"
    }
   ],
   "source": [
    "tf.norm(X_tf)"
   ]
  },
  {
   "cell_type": "markdown",
   "id": "a10441fa-ab5d-4f15-833c-0ec50de66a8e",
   "metadata": {
    "jp-MarkdownHeadingCollapsed": true
   },
   "source": [
    "# Matrix Multiplication"
   ]
  },
  {
   "cell_type": "code",
   "execution_count": 30,
   "id": "b98b06ca-6218-468c-90c7-d12b7fac4876",
   "metadata": {},
   "outputs": [
    {
     "data": {
      "text/plain": [
       "array([[3, 4],\n",
       "       [5, 6],\n",
       "       [7, 8]])"
      ]
     },
     "execution_count": 30,
     "metadata": {},
     "output_type": "execute_result"
    }
   ],
   "source": [
    "A = np.array([[3,4], [5,6], [7,8]])\n",
    "A"
   ]
  },
  {
   "cell_type": "code",
   "execution_count": 31,
   "id": "1586478e-4972-4a5e-9505-b561266dad08",
   "metadata": {},
   "outputs": [
    {
     "data": {
      "text/plain": [
       "array([1, 2])"
      ]
     },
     "execution_count": 31,
     "metadata": {},
     "output_type": "execute_result"
    }
   ],
   "source": [
    "B = np.array([1, 2])\n",
    "B"
   ]
  },
  {
   "cell_type": "code",
   "execution_count": 32,
   "id": "a66a704d-ceee-426b-9fa3-c368e5482171",
   "metadata": {},
   "outputs": [
    {
     "data": {
      "text/plain": [
       "array([11, 17, 23])"
      ]
     },
     "execution_count": 32,
     "metadata": {},
     "output_type": "execute_result"
    }
   ],
   "source": [
    "np.dot(A, B)"
   ]
  },
  {
   "cell_type": "code",
   "execution_count": 40,
   "id": "8188b195-98f3-4d92-b7d0-0e75228ffe1a",
   "metadata": {},
   "outputs": [
    {
     "data": {
      "text/plain": [
       "torch.Size([3, 2])"
      ]
     },
     "execution_count": 40,
     "metadata": {},
     "output_type": "execute_result"
    }
   ],
   "source": [
    "A_pt = torch.tensor([[3,4], [5,6], [7,8]])\n",
    "A_pt.shape"
   ]
  },
  {
   "cell_type": "code",
   "execution_count": 43,
   "id": "8b0fd18b-53d1-40bd-acd1-053c369d7cdb",
   "metadata": {},
   "outputs": [
    {
     "data": {
      "text/plain": [
       "torch.Size([2])"
      ]
     },
     "execution_count": 43,
     "metadata": {},
     "output_type": "execute_result"
    }
   ],
   "source": [
    "B_pt = torch.tensor([1,2])\n",
    "B_pt.shape"
   ]
  },
  {
   "cell_type": "code",
   "execution_count": 36,
   "id": "34ec2b65-1011-4d79-8c91-c05d3d23e901",
   "metadata": {},
   "outputs": [
    {
     "data": {
      "text/plain": [
       "tensor([11, 17, 23])"
      ]
     },
     "execution_count": 36,
     "metadata": {},
     "output_type": "execute_result"
    }
   ],
   "source": [
    "torch.matmul(A_pt, B_pt)"
   ]
  },
  {
   "cell_type": "code",
   "execution_count": 44,
   "id": "8d5c3b73-5b29-4804-9617-f108db307fbb",
   "metadata": {},
   "outputs": [],
   "source": [
    "A_tf = tf.Variable([[3,4], [5,6], [7,8]])\n",
    "B_tf = tf.Variable([1, 2])"
   ]
  },
  {
   "cell_type": "code",
   "execution_count": 45,
   "id": "8a307de7-ae08-4143-a9ce-7dd8125e6e62",
   "metadata": {},
   "outputs": [
    {
     "data": {
      "text/plain": [
       "<tf.Tensor: shape=(3,), dtype=int32, numpy=array([11, 17, 23], dtype=int32)>"
      ]
     },
     "execution_count": 45,
     "metadata": {},
     "output_type": "execute_result"
    }
   ],
   "source": [
    "tf.linalg.matvec(A_tf, B_tf)"
   ]
  },
  {
   "cell_type": "markdown",
   "id": "052291bd-6033-46e1-9d35-593361058955",
   "metadata": {},
   "source": [
    "# Matrix Inversion"
   ]
  },
  {
   "cell_type": "code",
   "execution_count": 46,
   "id": "b4b25020-b4bc-4357-9905-ccd1409705d0",
   "metadata": {},
   "outputs": [],
   "source": [
    "X = np.array([[4,2], [-5,-3]])"
   ]
  },
  {
   "cell_type": "code",
   "execution_count": 49,
   "id": "88f20d35-951d-480e-a563-2b40a3a658bf",
   "metadata": {},
   "outputs": [
    {
     "data": {
      "text/plain": [
       "array([[ 1.5,  1. ],\n",
       "       [-2.5, -2. ]])"
      ]
     },
     "execution_count": 49,
     "metadata": {},
     "output_type": "execute_result"
    }
   ],
   "source": [
    "Xinv = np.linalg.inv(X)\n",
    "Xinv"
   ]
  },
  {
   "cell_type": "code",
   "execution_count": 50,
   "id": "5dcbf410-def5-4a7c-b539-91cd928d4d91",
   "metadata": {},
   "outputs": [],
   "source": [
    "y = np.array([4, -7])"
   ]
  },
  {
   "cell_type": "code",
   "execution_count": 51,
   "id": "83c6117a-4a18-4c37-b5d8-bb20ffcefd04",
   "metadata": {},
   "outputs": [
    {
     "data": {
      "text/plain": [
       "array([-1.,  4.])"
      ]
     },
     "execution_count": 51,
     "metadata": {},
     "output_type": "execute_result"
    }
   ],
   "source": [
    "w = np.dot(Xinv, y)\n",
    "w"
   ]
  },
  {
   "cell_type": "code",
   "execution_count": 53,
   "id": "90aa226b-bec8-468e-9df3-df5cf7e5eb7d",
   "metadata": {},
   "outputs": [
    {
     "data": {
      "text/plain": [
       "array([ 4., -7.])"
      ]
     },
     "execution_count": 53,
     "metadata": {},
     "output_type": "execute_result"
    }
   ],
   "source": [
    "y_checked = np.dot(X, w)\n",
    "y_checked"
   ]
  },
  {
   "cell_type": "markdown",
   "id": "9c40c0f0-e29e-4f86-bfea-93401dfaa93e",
   "metadata": {},
   "source": [
    "# Orthogonal Matrix\n",
    "\n",
    "In orthogonal matrix orthonormal vectors make up all rows and all columns\n",
    "\n",
    "So thats why taking A<sup>T</sup>A = AA<sup>T</sup> = I\n",
    "\n",
    "That means A<sup>T</sup> = A<sup>-1</sup>"
   ]
  },
  {
   "cell_type": "code",
   "execution_count": null,
   "id": "41c9559a-920b-4510-bfe0-1cdc8c2bb63b",
   "metadata": {},
   "outputs": [],
   "source": []
  },
  {
   "cell_type": "code",
   "execution_count": null,
   "id": "a6b83b7d-8ff9-4370-b7c1-353d64e90a2a",
   "metadata": {},
   "outputs": [],
   "source": []
  }
 ],
 "metadata": {
  "kernelspec": {
   "display_name": "Python 3 (ipykernel)",
   "language": "python",
   "name": "python3"
  },
  "language_info": {
   "codemirror_mode": {
    "name": "ipython",
    "version": 3
   },
   "file_extension": ".py",
   "mimetype": "text/x-python",
   "name": "python",
   "nbconvert_exporter": "python",
   "pygments_lexer": "ipython3",
   "version": "3.12.3"
  }
 },
 "nbformat": 4,
 "nbformat_minor": 5
}
